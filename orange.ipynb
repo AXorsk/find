{
 "cells": [
  {
   "cell_type": "code",
   "execution_count": 3,
   "metadata": {},
   "outputs": [],
   "source": [
    "### 橙色小球跟踪实验\n",
    "import cv2   \n",
    "import numpy as np\n",
    "\n",
    "cap = cv2.VideoCapture('orange.mp4')\n",
    "\n",
    "lower_orange = np.array([50,0,150])\n",
    "upper_orange = np.array([90,255,220])\n",
    "\n",
    "while(cap.isOpened()):\n",
    "    ret, img = cap.read()\n",
    "    \n",
    "    if ret:\n",
    "        area = []\n",
    "        mask =  cv2.inRange(img,lower_orange,upper_orange)   \n",
    "        contours, hierarchy = cv2.findContours(mask,\n",
    "        cv2.RETR_EXTERNAL,\n",
    "        cv2.CHAIN_APPROX_SIMPLE) ###通过findContours函数 找到该mask的最外层轮廓\n",
    "\n",
    "        cv2.drawContours(img, contours,-1, (0,0,255), 3) ###通过drawContours函数画出找到的轮廓\n",
    "        \n",
    "        for c in range(len(contours)):\n",
    "            area.append(cv2.contourArea(contours[c])) ####在括号中填入每个轮廓的面积\n",
    "            \n",
    "        if area:\n",
    "            max_idx = np.argmax(np.array(area))\n",
    "            cnt = contours[max_idx] ####取出面积最大的轮廓 赋值给cnt\n",
    "            x,y,w,h = cv2.boundingRect(cnt) ####用boundingRect 函数计算出该轮廓的外接矩形\n",
    "            \n",
    "            cv2.rectangle(img,(x,y),(x+w,y+h),(0,0,255),3) #### 画出该矩形\n",
    "            cv2.line(img,(int(x+w/2-10),int(y+h/2)),(int(x+w/2+10),int(y+h/2)),(255,0,0),3)\n",
    "            cv2.line(img,(int(x+w/2),int(y+h/2-10)),(int(x+w/2),int(y+h/2+10)),(255,0,0),3)\n",
    "            \n",
    "            cv2.imshow('frame',img)\n",
    "            \n",
    "        if cv2.waitKey(10) & 0xFF == ord(' '):\n",
    "            break\n",
    "    else:\n",
    "        break\n",
    "cap.release()\n",
    "cv2.destroyAllWindows()"
   ]
  }
 ],
 "metadata": {
  "kernelspec": {
   "display_name": "Python 3 (ipykernel)",
   "language": "python",
   "name": "python3"
  },
  "language_info": {
   "codemirror_mode": {
    "name": "ipython",
    "version": 3
   },
   "file_extension": ".py",
   "mimetype": "text/x-python",
   "name": "python",
   "nbconvert_exporter": "python",
   "pygments_lexer": "ipython3",
   "version": "3.13.1"
  }
 },
 "nbformat": 4,
 "nbformat_minor": 2
}
