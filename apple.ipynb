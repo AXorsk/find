{
 "cells": [
  {
   "cell_type": "code",
   "execution_count": 1,
   "metadata": {},
   "outputs": [],
   "source": [
    "### 作业1：寻找苹果\n",
    "import cv2\n",
    "import numpy as np\n",
    "\n",
    "area = []\n",
    "img = cv2.imread(\"manyapples.jpg\")\n",
    "\n",
    "lower_red = np.array([0,15,180])\n",
    "upper_red = np.array([90,155,255])\n",
    "mask_logo = cv2.inRange(img,lower_red,upper_red)\n",
    "\n",
    "cv2.imshow(\"mask\",mask_logo)\n",
    "cv2.waitKey(0)\n",
    "\n",
    "contours, hierarchy = cv2.findContours(\n",
    "    mask_logo,\n",
    "    cv2.RETR_EXTERNAL,\n",
    "    cv2.CHAIN_APPROX_SIMPLE)\n",
    "\n",
    "cv2.drawContours(img, contours,-1, (0,0,255), 3)\n",
    "for c in range(len(contours)):\n",
    "    area.append(cv2.contourArea(contours[c]))\n",
    "if area:\n",
    "    #print(\"area is \",area)\n",
    "    max_idx = np.argmax(np.array(area))\n",
    "    # print(max_idx)\n",
    "    cnt = contours[max_idx]\n",
    "    x,y,w,h = cv2.boundingRect(cnt)\n",
    "    img=cv2.rectangle(img,(x,y),(x+w,y+h),(0,255,255),2)\n",
    "    img=cv2.line(img,(int(x+w/2),int(y+h/2-2)),(int(x+w/2),int(y+h/2+2)),(255,0,0),2)\n",
    "    img=cv2.line(img,(int(x+w/2-2),int(y+h/2)),(int(x+w/2+2),int(y+h/2)),(255,0,0),2)\n",
    "    cv2.imshow('apple',img)\n",
    "\n",
    "cv2.waitKey(0)\n",
    "cv2.destroyAllWindows()\n"
   ]
  },
  {
   "cell_type": "code",
   "execution_count": 2,
   "metadata": {},
   "outputs": [
    {
     "name": "stdout",
     "output_type": "stream",
     "text": [
      "total: 6 apples.\n"
     ]
    }
   ],
   "source": [
    "### 作业2：检测多个苹果\n",
    "import cv2   \n",
    "import numpy as np\n",
    "\n",
    "area = []\n",
    "img = cv2.imread(\"manyapples.jpg\")\n",
    "\n",
    "# convolutionCore = np.array((\n",
    "#     [-1,0,1],\n",
    "#     [-2,0,2],\n",
    "#     [-1,0,1]))\n",
    "# cimg = cv2.filter2D(img,-1,convolutionCore)\n",
    "# cv2.imshow(\"mask\",cimg)\n",
    "# cv2.waitKey(0)\n",
    "\n",
    "lower_red = np.array([0,15,180])\n",
    "upper_red = np.array([90,175,255])\n",
    "mask_logo = cv2.inRange(img,lower_red,upper_red)\n",
    "\n",
    "cv2.imshow(\"mask\",mask_logo)\n",
    "cv2.waitKey(0)\n",
    "\n",
    "contours, hierarchy = cv2.findContours(\n",
    "    mask_logo,\n",
    "    cv2.RETR_EXTERNAL,\n",
    "    cv2.CHAIN_APPROX_SIMPLE)\n",
    "        \n",
    "cv2.drawContours(img, contours,-1, (0,0,255), 3)\n",
    "for c in range(len(contours)):\n",
    "    area.append(cv2.contourArea(contours[c]))\n",
    "if area:\n",
    "    # print(\"area is \",area)\n",
    "    indices = []\n",
    "    for i in range(len(area)):\n",
    "        if area[i] > 500:\n",
    "            indices.append(i)\n",
    "    print(\"total: %d apples.\" % len(indices))\n",
    "    for index in indices:\n",
    "        cnt = contours[index]\n",
    "        x,y,w,h = cv2.boundingRect(cnt)\n",
    "        img=cv2.rectangle(img,(x,y),(x+w,y+h),(0,255,255),2)\n",
    "        img=cv2.line(img,(int(x+w/2),int(y+h/2-2)),(int(x+w/2),int(y+h/2+2)),(255,0,0),2)\n",
    "        img=cv2.line(img,(int(x+w/2-2),int(y+h/2)),(int(x+w/2+2),int(y+h/2)),(255,0,0),2)\n",
    "    cv2.imshow('apple',img)\n",
    "\n",
    "cv2.waitKey(0)\n",
    "cv2.destroyAllWindows()"
   ]
  }
 ],
 "metadata": {
  "kernelspec": {
   "display_name": "Python 3 (ipykernel)",
   "language": "python",
   "name": "python3"
  },
  "language_info": {
   "codemirror_mode": {
    "name": "ipython",
    "version": 3
   },
   "file_extension": ".py",
   "mimetype": "text/x-python",
   "name": "python",
   "nbconvert_exporter": "python",
   "pygments_lexer": "ipython3",
   "version": "3.13.1"
  }
 },
 "nbformat": 4,
 "nbformat_minor": 4
}
